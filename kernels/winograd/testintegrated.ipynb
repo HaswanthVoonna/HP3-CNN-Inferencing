{
  "nbformat": 4,
  "nbformat_minor": 0,
  "metadata": {
    "colab": {
      "name": "testintegrated.ipynb",
      "provenance": [],
      "collapsed_sections": []
    },
    "kernelspec": {
      "name": "python3",
      "display_name": "Python 3"
    },
    "accelerator": "GPU"
  },
  "cells": [
    {
      "cell_type": "code",
      "metadata": {
        "id": "3gkHEqUogBZO",
        "colab_type": "code",
        "outputId": "d5d412bf-2510-4473-c03e-d609b9677aae",
        "colab": {
          "base_uri": "https://localhost:8080/",
          "height": 85
        }
      },
      "source": [
        "!nvcc --version"
      ],
      "execution_count": 0,
      "outputs": [
        {
          "output_type": "stream",
          "text": [
            "nvcc: NVIDIA (R) Cuda compiler driver\n",
            "Copyright (c) 2005-2019 NVIDIA Corporation\n",
            "Built on Sun_Jul_28_19:07:16_PDT_2019\n",
            "Cuda compilation tools, release 10.1, V10.1.243\n"
          ],
          "name": "stdout"
        }
      ]
    },
    {
      "cell_type": "code",
      "metadata": {
        "id": "vKqBLCsvaRUc",
        "colab_type": "code",
        "outputId": "c20c8c1e-51a4-42a2-e6f2-e8ad4572df94",
        "colab": {
          "base_uri": "https://localhost:8080/",
          "height": 207
        }
      },
      "source": [
        "!pip install git+git://github.com/andreinechaev/nvcc4jupyter.git"
      ],
      "execution_count": 0,
      "outputs": [
        {
          "output_type": "stream",
          "text": [
            "Collecting git+git://github.com/andreinechaev/nvcc4jupyter.git\n",
            "  Cloning git://github.com/andreinechaev/nvcc4jupyter.git to /tmp/pip-req-build-vdj5rqb7\n",
            "  Running command git clone -q git://github.com/andreinechaev/nvcc4jupyter.git /tmp/pip-req-build-vdj5rqb7\n",
            "Building wheels for collected packages: NVCCPlugin\n",
            "  Building wheel for NVCCPlugin (setup.py) ... \u001b[?25l\u001b[?25hdone\n",
            "  Created wheel for NVCCPlugin: filename=NVCCPlugin-0.0.2-cp36-none-any.whl size=4307 sha256=8dc74873aa8f83cb17a548f004f4f4e46e3081b4f489dbdf2a6804a410978c2f\n",
            "  Stored in directory: /tmp/pip-ephem-wheel-cache-p4cpvo8y/wheels/10/c2/05/ca241da37bff77d60d31a9174f988109c61ba989e4d4650516\n",
            "Successfully built NVCCPlugin\n",
            "Installing collected packages: NVCCPlugin\n",
            "Successfully installed NVCCPlugin-0.0.2\n"
          ],
          "name": "stdout"
        }
      ]
    },
    {
      "cell_type": "code",
      "metadata": {
        "id": "oCiN6AumaZ3M",
        "colab_type": "code",
        "outputId": "9d6ec748-457e-4dbe-f85f-82a5fda8faad",
        "colab": {
          "base_uri": "https://localhost:8080/",
          "height": 51
        }
      },
      "source": [
        "%load_ext nvcc_plugin"
      ],
      "execution_count": 0,
      "outputs": [
        {
          "output_type": "stream",
          "text": [
            "created output directory at /content/src\n",
            "Out bin /content/result.out\n"
          ],
          "name": "stdout"
        }
      ]
    },
    {
      "cell_type": "code",
      "metadata": {
        "id": "Tx7kijdD46V4",
        "colab_type": "code",
        "outputId": "165fac99-c824-451e-e7b1-1e762466aa7a",
        "colab": {
          "base_uri": "https://localhost:8080/",
          "height": 306
        }
      },
      "source": [
        "!nvidia-smi"
      ],
      "execution_count": 0,
      "outputs": [
        {
          "output_type": "stream",
          "text": [
            "Wed Apr  8 17:44:01 2020       \n",
            "+-----------------------------------------------------------------------------+\n",
            "| NVIDIA-SMI 440.64.00    Driver Version: 418.67       CUDA Version: 10.1     |\n",
            "|-------------------------------+----------------------+----------------------+\n",
            "| GPU  Name        Persistence-M| Bus-Id        Disp.A | Volatile Uncorr. ECC |\n",
            "| Fan  Temp  Perf  Pwr:Usage/Cap|         Memory-Usage | GPU-Util  Compute M. |\n",
            "|===============================+======================+======================|\n",
            "|   0  Tesla T4            Off  | 00000000:00:04.0 Off |                    0 |\n",
            "| N/A   37C    P8    10W /  70W |      0MiB / 15079MiB |      0%      Default |\n",
            "+-------------------------------+----------------------+----------------------+\n",
            "                                                                               \n",
            "+-----------------------------------------------------------------------------+\n",
            "| Processes:                                                       GPU Memory |\n",
            "|  GPU       PID   Type   Process name                             Usage      |\n",
            "|=============================================================================|\n",
            "|  No running processes found                                                 |\n",
            "+-----------------------------------------------------------------------------+\n"
          ],
          "name": "stdout"
        }
      ]
    },
    {
      "cell_type": "code",
      "metadata": {
        "id": "6Jm358NNj4aR",
        "colab_type": "code",
        "outputId": "d064f13f-e7be-4f15-c213-d386800146d0",
        "colab": {
          "base_uri": "https://localhost:8080/",
          "height": 34
        }
      },
      "source": [
        "!ls"
      ],
      "execution_count": 0,
      "outputs": [
        {
          "output_type": "stream",
          "text": [
            "sample_data  src\n"
          ],
          "name": "stdout"
        }
      ]
    },
    {
      "cell_type": "code",
      "metadata": {
        "id": "e3FV18gqaiNl",
        "colab_type": "code",
        "outputId": "1dc4e1cc-11f2-44ee-a5b0-786f7fee5e50",
        "colab": {
          "base_uri": "https://localhost:8080/",
          "height": 34
        }
      },
      "source": [
        "%%cuda --name helloCUDA.cu\n",
        "#include <iostream>\n",
        "#include <random>\n",
        "#include <algorithm>\n",
        "\n",
        "#define LOOP(x) for(int t##x = 0; t##x < x; t##x++)\n",
        "\n",
        "using namespace std;\n",
        "\n",
        "void gpu_error(cudaError_t const &code) \n",
        "{\n",
        "    if(code != cudaSuccess)\n",
        "    {\n",
        "        cerr << \"GPUError: Code \" << code << \" : \" << cudaGetErrorString(code) << endl;\n",
        "        exit( EXIT_FAILURE );\n",
        "    }\n",
        "}\n",
        "\n",
        "__global__ void precompute(int out_channels, int input_channels, float* kernel_weights, float *U)\n",
        "{\n",
        "    int x = threadIdx.x;\n",
        "    int y = blockDim.x;;\n",
        "    int bid = blockIdx.x;\n",
        "    int offset = bid*y + x;\n",
        "    // int m = 2, n = 3;\n",
        "    \n",
        "    float g[4][3] = {\n",
        "        {1, 0, 0},\n",
        "        {0.5, 0.5, 0.5},\n",
        "        {0.5, -0.5, 0.5},\n",
        "        {0, 0, 1}\n",
        "    };\n",
        "    \n",
        "    float g_t[3][4] ={\n",
        "        {1, 0.5, 0.5, 0},\n",
        "        {0, 0.5, -0.5, 0},\n",
        "        {0, 0.5, 0.5, 1}\n",
        "    };\n",
        "\n",
        "    float *temp = (float *)malloc(out_channels*input_channels*3*4*sizeof(float));\n",
        "    for(int i = 0; i <3; ++i)\n",
        "    {\n",
        "        for(int j = 0; j <4; ++j)\n",
        "        {\n",
        "            temp[offset*3*4+i*4+j] = 0;\n",
        "            for(int k = 0; k <3; ++k)\n",
        "            {\n",
        "                temp[offset*3*4+i*4+j] += kernel_weights[offset*3*3+i*3+k] * g_t[k][j];\n",
        "            }\n",
        "        }\n",
        "    }\n",
        "\n",
        "    for(int i = 0; i <4; ++i)\n",
        "    {\n",
        "        for(int j = 0; j <4; ++j)\n",
        "        {\n",
        "            U[offset*4*4+i*4+j] = 0;\n",
        "            for(int k = 0; k <3; ++k)\n",
        "            {\n",
        "                U[offset*4*4+i*4+j] += g[i][k] * temp[offset*3*4+k*4+j];\n",
        "            }\n",
        "        }\n",
        "    }\n",
        "}\n",
        "\n",
        "__global__ void uv(int tch, int och, float *devfin, float *U, float V[4][4], int finoffset)\n",
        "{\n",
        "    int x = threadIdx.x;\n",
        "    int offset = x*och+tch;\n",
        "    int offset2 = finoffset*och + x ;\n",
        "\n",
        "    for(int i = 0; i <4; ++i)\n",
        "    {\n",
        "        for(int j = 0; j <4; ++j)\n",
        "        {\n",
        "            devfin[offset2*4*4 + i*4 + j] = U[offset*4*4+i*4+j]*V[i][j];\n",
        "            \n",
        "        }\n",
        "    }\n",
        "}\n",
        "\n",
        "__global__ void tile(float *devin, float *devout, float *devsum, float *U, int h, int w, int och, float *devfin)\n",
        "{\n",
        "    float thrtile[4][4];\n",
        "    \n",
        "    int /*bs,*/ p, q, ch;\n",
        "    // bs = gridDim.x;\n",
        "    p = gridDim.y;\n",
        "    q = gridDim.z;\n",
        "    ch = blockDim.x;\n",
        "    \n",
        "    int tbs, tp, tq, tch;\n",
        "    tbs = blockIdx.x;\n",
        "    tp = blockIdx.y;\n",
        "    tq = blockIdx.z;\n",
        "    tch = threadIdx.x;\n",
        "\n",
        "    // copy the tiles to thrtile\n",
        "\n",
        "    int offset1 = (tbs*ch + tch)*h*w;\n",
        "\n",
        "    // float *t = thrtile;\n",
        " \n",
        "    for(int th = 2*tp, i = 0; i < 4; th++, i++)\n",
        "    {\n",
        "        for(int tw = 2*tq, j = 0; j < 4; tw++, j++)\n",
        "        {\n",
        "            thrtile[i][j] = devin[offset1 + th*w + tw];\n",
        "        }\n",
        "    }\n",
        "    float B[4][4] = {\n",
        "        {1,0,0,0},\n",
        "        {0,1,-1,1},\n",
        "        {-1,1,1,0},\n",
        "        {0,0,0,-1}\n",
        "    };\n",
        "\n",
        "    float B_t[4][4] = {\n",
        "        {1,0,-1,0},\n",
        "        {0,1,1,0},\n",
        "        {0,-1,1,0},\n",
        "        {0,1,0,-1}\n",
        "    };\n",
        "    //Calculation of V\n",
        " \n",
        "    float temp[4][4], V[4][4];\n",
        " \n",
        "    for(int i = 0; i <4; ++i)\n",
        "    {\n",
        "        for(int j = 0; j <4; ++j)\n",
        "        {\n",
        "            temp[i][j] = 0;\n",
        "            for(int k = 0; k <4; ++k)\n",
        "            {\n",
        "                temp[i][j] += thrtile[i][k] * B[k][j];\n",
        "            }\n",
        "     \n",
        "        }\n",
        "    }\n",
        "\n",
        "    for(int i = 0; i <4; ++i)\n",
        "    {\n",
        "        for(int j = 0; j <4; ++j)\n",
        "        {\n",
        "            V[i][j] = 0;\n",
        "            for(int k = 0; k <4; ++k)\n",
        "            {\n",
        "                V[i][j] += B_t[i][k] * temp[k][j];\n",
        "            }\n",
        "        }\n",
        "    }\n",
        " \n",
        "    // bs * p * q * ch * och * 4 * 4 * sizeof(float);\n",
        "\n",
        "    int finoffset = (((tbs*p+tp)*q+tq)*ch+tch);\n",
        "\n",
        "    uv<<<1,och>>>(tch, och, devfin, U, V, finoffset); \n",
        "\n",
        "    // copy thrtile to devout for testing\n",
        "\n",
        "    // int offset2 = (((tbs*p + tp)*q + tq)*ch + tch)*16;\n",
        "    LOOP(och)\n",
        "    {\n",
        "        for(int i = 0; i < 4; i++)\n",
        "        {\n",
        "            for(int j = 0; j < 4; j++)\n",
        "            {\n",
        "                devout[(((((tbs*och+toch)*p+tp)*q+tq)*ch+tch)*4 + i)*4 + j] = devfin[((finoffset*och+toch)*4+i)*4+j];\n",
        "            }\n",
        "        }\n",
        "    }\n",
        "\n",
        "    // sum along the channels, using log n summing\n",
        "\n",
        "    // int k = ch, j = tch;\n",
        "\n",
        "    // int offset3 = ((tbs*p + tp)*q + tq)*ch*16;\n",
        "\n",
        "    for(int s = 1; s < ch; s *= 2)\n",
        "    {\n",
        "        if(tch % (2*s) == 0 && tch+s < ch)\n",
        "        {\n",
        "            LOOP(och)\n",
        "            {\n",
        "                for(int i = 0; i < 4; i++)\n",
        "                {\n",
        "                    for(int j = 0; j < 4; j++)\n",
        "                    {\n",
        "                        devout[(((((tbs*och+toch)*p+tp)*q+tq)*ch+tch)*4 + i)*4 + j] += devout[(((((tbs*och+toch)*p+tp)*q+tq)*ch+(tch+s))*4 + i)*4 + j];\n",
        "                    }\n",
        "                }\n",
        "            }\n",
        "        }\n",
        "        __syncthreads();\n",
        "    }\n",
        "\n",
        "    if(tch/*%ch*/ == 0) // can do with tch == 0\n",
        "    {\n",
        "        // int offset = ((tbs*p + tp)*q + tq)*16;\n",
        "        LOOP(och)\n",
        "        {    \n",
        "            for(int i = 0; i < 4; i++)\n",
        "            {\n",
        "                for(int j = 0; j < 4; j++)\n",
        "                {\n",
        "                    devsum[((((tbs*och+toch)*p+tp)*q+tq)*4 + i)*4 + j] = devout[(((((tbs*och+toch)*p+tp)*q+tq)*ch)*4 + i)*4 + j];\n",
        "                }\n",
        "            }\n",
        "        }\n",
        "    }\n",
        "\n",
        "}\n",
        "\n",
        "void tilehost(int och, int ch, int bs, int h, int w, float *&in, int &p, int &q, int &outsize, float *&out, int &sumsize, float *&sum, float *kwt)\n",
        "{\n",
        "    // int p, q;\n",
        "    p = max((h-2)/2, 0);\n",
        "    q = max((w-2)/2, 0);\n",
        "    \n",
        "    float *devin, *devout, *devsum, *devkwt, *devU, *devfin;\n",
        "    devin = devout = devsum = nullptr;\n",
        "    int insize = bs * ch * h * w * sizeof(float);\n",
        "    int kwtsize = och*ch*4*4*sizeof(float);\n",
        "    int finsize = bs * p * q * ch * och * 4 * 4 * sizeof(float);\n",
        "    outsize = bs * och * p * q * ch * 4 * 4 * sizeof(float);\n",
        "    sumsize = bs * och * p * q * 4 * 4 * sizeof(float);\n",
        "\n",
        "    gpu_error(cudaMalloc((void **) & devin, insize));\n",
        "    gpu_error(cudaMalloc((void **) & devout, outsize));\n",
        "    gpu_error(cudaMalloc((void **) & devsum, sumsize));\n",
        "    gpu_error(cudaMalloc((void **) & devkwt, och*3*3*ch*sizeof(float)));\n",
        "    gpu_error(cudaMalloc((void **) & devU, kwtsize));\n",
        "    gpu_error(cudaMalloc((void **) & devfin, finsize));\n",
        "    \n",
        "    gpu_error(cudaMemcpy(devin, in, insize, cudaMemcpyHostToDevice));\n",
        "    gpu_error(cudaMemcpy(devkwt, kwt, kwtsize, cudaMemcpyHostToDevice));\n",
        "\n",
        "    // call the kernel function for tiling\n",
        "    \n",
        "    // float *U = (float *)malloc(och*ch*4*4*sizeof(float));\n",
        "    precompute<<<och, ch>>>(och, ch, devkwt, devU);\n",
        "\n",
        "    dim3 grid(bs, p, q);  // 3-D\n",
        "    dim3 block(ch, 1, 1); // 1-D\n",
        "    tile<<<grid, block>>>(devin, devout, devsum, devU, h, w, och, devfin);\n",
        "\n",
        "    // copy from device to host to out.\n",
        "\n",
        "    delete in;\n",
        "    out = new float[outsize/sizeof(float)];\n",
        "    sum = new float[sumsize/sizeof(float)];\n",
        "\n",
        "    gpu_error(cudaMemcpy(out, devout, outsize, cudaMemcpyDeviceToHost));\n",
        "    gpu_error(cudaMemcpy(sum, devsum, sumsize, cudaMemcpyDeviceToHost));\n",
        "\n",
        "    gpu_error(cudaFree(devin));\n",
        "    gpu_error(cudaFree(devout));\n",
        "    gpu_error(cudaFree(devsum));\n",
        "    \n",
        "}\n",
        "\n",
        "int main(void) \n",
        "{\n",
        "    auto engine = default_random_engine(time(nullptr));\n",
        "    auto rng = uniform_real_distribution<float>();\n",
        "\n",
        "    int bs, ch, h, w, p, q, och;\n",
        "    \n",
        "    bs = 1;\n",
        "    ch = 2;\n",
        "    h = 9;\n",
        "    w = 9;\n",
        "    och = 10;\n",
        "    \n",
        "    int insize = bs * ch * h * w * sizeof(float);\n",
        "    int outsize, sumsize;\n",
        " \n",
        "    float *in = new float[insize/sizeof(float)];\n",
        "    float *t = in;\n",
        "    float *out, *sum;\n",
        "    float *kernel_weights = new float[och*3*3*ch];\n",
        " \n",
        "    LOOP(bs)\n",
        "    {\n",
        "        LOOP(ch)\n",
        "        {\n",
        "            LOOP(h)\n",
        "            {\n",
        "                LOOP(w)\n",
        "                {\n",
        "                    *(t++) = rng(engine);\n",
        "                }\n",
        "            }\n",
        "        }\n",
        "    }\n",
        " \n",
        "    LOOP(bs)\n",
        "    {\n",
        "        cout<<\"{ \";\n",
        "        LOOP(ch)\n",
        "        {\n",
        "            cout<<\"{ \";\n",
        "            LOOP(h)\n",
        "            {\n",
        "                cout<<\"{ \";\n",
        "                LOOP(w)\n",
        "                {\n",
        "                    cout<<in[((tbs*ch+tch)*h+th)*w+tw]<<\" \";\n",
        "                }\n",
        "                cout<<\"}\\n\";\n",
        "            }\n",
        "            cout<<\"}\\n\";\n",
        "        }\n",
        "        cout<<\"}\\n\";\n",
        "    }\n",
        "\n",
        "    cout<<\"\\nTiling and Summing\\n\";\n",
        "\n",
        "    tilehost(1, ch, bs, h, w, in, p, q, outsize, out, sumsize, sum, kernel_weights);\n",
        "    \n",
        "    cout<<\"\\nTiling finished\\n\\n\";\n",
        "\n",
        "    /*\n",
        "    \n",
        "    LOOP(bs)\n",
        "    {\n",
        "        cout<<\"{ \";\n",
        "        LOOP(p)\n",
        "        {\n",
        "            cout<<\"{ \";\n",
        "            LOOP(q)\n",
        "            {\n",
        "                cout<<\"{ \";\n",
        "                LOOP(ch)\n",
        "                {\n",
        "                    cout<<\"{ \";\n",
        "                    for(int i = 0; i < 4; i++)\n",
        "                    {\n",
        "                        for(int j = 0; j < 4; j++)\n",
        "                        {\n",
        "                            cout<<out[((((tbs*p+tp)*q+tq)*ch+tch)*4+i)*4+j]<<\",\";\n",
        "                        }\n",
        "                        cout<<\";\\n\";\n",
        "                    }\n",
        "                    cout<<\"}\\n\";\n",
        "                }\n",
        "                cout<<\"}\\n\";\n",
        "            }\n",
        "            cout<<\"}\\n\";\n",
        "        }\n",
        "        cout<<\"}\\n\";\n",
        "    }\n",
        " \n",
        "    */\n",
        "\n",
        "    cout<<\"\\nSumming finished\\n\\n\";\n",
        "\n",
        "    LOOP(bs)\n",
        "    {\n",
        "        cout<<\"{ \";\n",
        "        LOOP(p)\n",
        "        {\n",
        "            cout<<\"{ \";\n",
        "            LOOP(q)\n",
        "            {\n",
        "                cout<<\"{ \";\n",
        "                for(int i = 0; i < 4; i++)\n",
        "                {\n",
        "                    for(int j = 0; j < 4; j++)\n",
        "                    {\n",
        "                        cout<<sum[(((tbs*p+tp)*q+tq)*4+i)*4+j]<<\",\";\n",
        "                    }\n",
        "                    cout<<\";\\n\";\n",
        "                }\n",
        "                cout<<\"}\\n\";\n",
        "            }\n",
        "            cout<<\"}\\n\";\n",
        "        }\n",
        "        cout<<\"}\\n\";\n",
        "    }\n",
        "\n",
        "    return 0;\n",
        "}"
      ],
      "execution_count": 0,
      "outputs": [
        {
          "output_type": "execute_result",
          "data": {
            "text/plain": [
              "'File written in /content/src/helloCUDA.cu'"
            ]
          },
          "metadata": {
            "tags": []
          },
          "execution_count": 27
        }
      ]
    },
    {
      "cell_type": "code",
      "metadata": {
        "id": "8ncVM7H-n85I",
        "colab_type": "code",
        "outputId": "f0eec27d-b37b-429c-d4ba-f4bad6737ba3",
        "colab": {
          "base_uri": "https://localhost:8080/",
          "height": 51
        }
      },
      "source": [
        "!nvcc -std=c++11 -arch=sm_35 -rdc=true /content/src/helloCUDA.cu -o /content/src/helloCUDA"
      ],
      "execution_count": 0,
      "outputs": [
        {
          "output_type": "stream",
          "text": [
            "/content/src/helloCUDA.cu(156) : Error: a pointer to local memory cannot be passed to a launch as an argument\n",
            "\n"
          ],
          "name": "stdout"
        }
      ]
    },
    {
      "cell_type": "code",
      "metadata": {
        "id": "pXq-m0VsoOCv",
        "colab_type": "code",
        "outputId": "5bea16d5-f53d-49d9-f641-7b82a397b67c",
        "colab": {
          "base_uri": "https://localhost:8080/",
          "height": 34
        }
      },
      "source": [
        "!/content/src/helloCUDA #< input.txt"
      ],
      "execution_count": 0,
      "outputs": [
        {
          "output_type": "stream",
          "text": [
            "/bin/bash: /content/src/helloCUDA: No such file or directory\n"
          ],
          "name": "stdout"
        }
      ]
    },
    {
      "cell_type": "code",
      "metadata": {
        "id": "RNOZutlj_0c-",
        "colab_type": "code",
        "colab": {}
      },
      "source": [
        ""
      ],
      "execution_count": 0,
      "outputs": []
    }
  ]
}