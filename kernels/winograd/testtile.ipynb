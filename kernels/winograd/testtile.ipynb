{
  "nbformat": 4,
  "nbformat_minor": 0,
  "metadata": {
    "colab": {
      "name": "testtile.ipynb",
      "provenance": [],
      "collapsed_sections": []
    },
    "kernelspec": {
      "name": "python3",
      "display_name": "Python 3"
    },
    "accelerator": "GPU"
  },
  "cells": [
    {
      "cell_type": "code",
      "metadata": {
        "id": "3gkHEqUogBZO",
        "colab_type": "code",
        "outputId": "95eb0554-babd-4e7c-d7b8-8bc0c6e94f39",
        "colab": {
          "base_uri": "https://localhost:8080/",
          "height": 85
        }
      },
      "source": [
        "!nvcc --version"
      ],
      "execution_count": 1,
      "outputs": [
        {
          "output_type": "stream",
          "text": [
            "nvcc: NVIDIA (R) Cuda compiler driver\n",
            "Copyright (c) 2005-2019 NVIDIA Corporation\n",
            "Built on Sun_Jul_28_19:07:16_PDT_2019\n",
            "Cuda compilation tools, release 10.1, V10.1.243\n"
          ],
          "name": "stdout"
        }
      ]
    },
    {
      "cell_type": "code",
      "metadata": {
        "id": "vKqBLCsvaRUc",
        "colab_type": "code",
        "outputId": "d6b100d8-b526-4e6b-956b-3ce1406baaa7",
        "colab": {
          "base_uri": "https://localhost:8080/",
          "height": 207
        }
      },
      "source": [
        "!pip install git+git://github.com/andreinechaev/nvcc4jupyter.git"
      ],
      "execution_count": 2,
      "outputs": [
        {
          "output_type": "stream",
          "text": [
            "Collecting git+git://github.com/andreinechaev/nvcc4jupyter.git\n",
            "  Cloning git://github.com/andreinechaev/nvcc4jupyter.git to /tmp/pip-req-build-78lz8zkl\n",
            "  Running command git clone -q git://github.com/andreinechaev/nvcc4jupyter.git /tmp/pip-req-build-78lz8zkl\n",
            "Building wheels for collected packages: NVCCPlugin\n",
            "  Building wheel for NVCCPlugin (setup.py) ... \u001b[?25l\u001b[?25hdone\n",
            "  Created wheel for NVCCPlugin: filename=NVCCPlugin-0.0.2-cp36-none-any.whl size=4307 sha256=2e45bb065ef19cec21e8f151f4e26665dfa361f612cc9f7b2ca8734b9ccb6a5f\n",
            "  Stored in directory: /tmp/pip-ephem-wheel-cache-w63ztcqx/wheels/10/c2/05/ca241da37bff77d60d31a9174f988109c61ba989e4d4650516\n",
            "Successfully built NVCCPlugin\n",
            "Installing collected packages: NVCCPlugin\n",
            "Successfully installed NVCCPlugin-0.0.2\n"
          ],
          "name": "stdout"
        }
      ]
    },
    {
      "cell_type": "code",
      "metadata": {
        "id": "oCiN6AumaZ3M",
        "colab_type": "code",
        "outputId": "74e4df1f-c1dc-49af-adcf-b0060397d533",
        "colab": {
          "base_uri": "https://localhost:8080/",
          "height": 51
        }
      },
      "source": [
        "%load_ext nvcc_plugin"
      ],
      "execution_count": 3,
      "outputs": [
        {
          "output_type": "stream",
          "text": [
            "created output directory at /content/src\n",
            "Out bin /content/result.out\n"
          ],
          "name": "stdout"
        }
      ]
    },
    {
      "cell_type": "code",
      "metadata": {
        "id": "Tx7kijdD46V4",
        "colab_type": "code",
        "outputId": "29692cc2-c95e-4e82-972a-ade8c7af9ccd",
        "colab": {
          "base_uri": "https://localhost:8080/",
          "height": 306
        }
      },
      "source": [
        "!nvidia-smi"
      ],
      "execution_count": 4,
      "outputs": [
        {
          "output_type": "stream",
          "text": [
            "Fri Apr 10 05:03:03 2020       \n",
            "+-----------------------------------------------------------------------------+\n",
            "| NVIDIA-SMI 440.64.00    Driver Version: 418.67       CUDA Version: 10.1     |\n",
            "|-------------------------------+----------------------+----------------------+\n",
            "| GPU  Name        Persistence-M| Bus-Id        Disp.A | Volatile Uncorr. ECC |\n",
            "| Fan  Temp  Perf  Pwr:Usage/Cap|         Memory-Usage | GPU-Util  Compute M. |\n",
            "|===============================+======================+======================|\n",
            "|   0  Tesla P100-PCIE...  Off  | 00000000:00:04.0 Off |                    0 |\n",
            "| N/A   42C    P0    27W / 250W |      0MiB / 16280MiB |      0%      Default |\n",
            "+-------------------------------+----------------------+----------------------+\n",
            "                                                                               \n",
            "+-----------------------------------------------------------------------------+\n",
            "| Processes:                                                       GPU Memory |\n",
            "|  GPU       PID   Type   Process name                             Usage      |\n",
            "|=============================================================================|\n",
            "|  No running processes found                                                 |\n",
            "+-----------------------------------------------------------------------------+\n"
          ],
          "name": "stdout"
        }
      ]
    },
    {
      "cell_type": "code",
      "metadata": {
        "id": "6Jm358NNj4aR",
        "colab_type": "code",
        "outputId": "9bae7fa4-ef1f-4911-beb9-97b3abe36cf9",
        "colab": {
          "base_uri": "https://localhost:8080/",
          "height": 34
        }
      },
      "source": [
        "!ls"
      ],
      "execution_count": 5,
      "outputs": [
        {
          "output_type": "stream",
          "text": [
            "sample_data  src\n"
          ],
          "name": "stdout"
        }
      ]
    },
    {
      "cell_type": "code",
      "metadata": {
        "id": "e3FV18gqaiNl",
        "colab_type": "code",
        "outputId": "ab83474c-2f29-44c9-fc78-f59ec4a4c568",
        "colab": {
          "base_uri": "https://localhost:8080/",
          "height": 34
        }
      },
      "source": [
        "%%cuda --name helloCUDA.cu\n",
        "#include <iostream>\n",
        "#include <random>\n",
        "#include <algorithm>\n",
        "\n",
        "#define LOOP(x) for(int t##x = 0; t##x < x; t##x++)\n",
        "\n",
        "using namespace std;\n",
        "\n",
        "void gpu_error(cudaError_t const &code) \n",
        "{\n",
        "    if(code != cudaSuccess)\n",
        "    {\n",
        "        cerr << \"GPUError: Code \" << code << \" : \" << cudaGetErrorString(code) << endl;\n",
        "        exit( EXIT_FAILURE );\n",
        "    }\n",
        "}\n",
        "\n",
        "__global__ void tile(float *devin, float *devout, float *devsum, int h, int w)\n",
        "{\n",
        "    float thrtile[4][4];\n",
        "    \n",
        "    int /*bs,*/ p, q, ch;\n",
        "    // bs = gridDim.x;\n",
        "    p = gridDim.y;\n",
        "    q = gridDim.z;\n",
        "    ch = blockDim.x;\n",
        "    \n",
        "    int tbs, tp, tq, tch;\n",
        "    tbs = blockIdx.x;\n",
        "    tp = blockIdx.y;\n",
        "    tq = blockIdx.z;\n",
        "    tch = threadIdx.x;\n",
        "\n",
        "    // copy the tiles to thrtile\n",
        "\n",
        "    int offset1 = (tbs*ch + tch)*h*w;\n",
        "\n",
        "    // float *t = thrtile;\n",
        " \n",
        "    for(int th = 2*tp, i = 0; i < 4; th++, i++)\n",
        "    {\n",
        "        for(int tw = 2*tq, j = 0; j < 4; tw++, j++)\n",
        "        {\n",
        "            thrtile[i][j] = devin[offset1 + th*w + tw];\n",
        "        }\n",
        "    }\n",
        "\n",
        "    // copy thrtile to devout for testing\n",
        "\n",
        "    int offset2 = (((tbs*p + tp)*q + tq)*ch + tch)*16;\n",
        "\n",
        "    for(int i = 0; i < 4; i++)\n",
        "    {\n",
        "        for(int j = 0; j < 4; j++)\n",
        "        {\n",
        "            devout[offset2 + i*4 + j] = thrtile[i][j];\n",
        "        }\n",
        "    }\n",
        "\n",
        "    // sum along the channels, using log n summing\n",
        "\n",
        "    // int k = ch, j = tch;\n",
        "\n",
        "    int offset3 = ((tbs*p + tp)*q + tq)*ch*16;\n",
        "\n",
        "    for(int s = 1; s < ch; s *= 2)\n",
        "    {\n",
        "        if(tch % (2*s) == 0 && tch+s < ch)\n",
        "        {\n",
        "            for(int i = 0; i < 4; i++)\n",
        "            {\n",
        "                for(int j = 0; j < 4; j++)\n",
        "                {\n",
        "                    devout[offset3 + tch*16 + i*4 + j] += devout[offset3 + (tch+s)*16 + i*4 + j];\n",
        "                }\n",
        "            }\n",
        "        }\n",
        "        __syncthreads();\n",
        "    }\n",
        "\n",
        "    if(tch/*%ch*/ == 0) // can do with tch == 0\n",
        "    {\n",
        "        int offset = ((tbs*p + tp)*q + tq)*16;\n",
        "        for(int i = 0; i < 4; i++)\n",
        "        {\n",
        "            for(int j = 0; j < 4; j++)\n",
        "            {\n",
        "                devsum[offset + i*4 + j] = devout[offset3 + /*tch*16*/ +i*4 + j];\n",
        "            }\n",
        "        }\n",
        "    }\n",
        "\n",
        "}\n",
        "\n",
        "void tilehost(int och, int ch, int bs, int h, int w, float *&in, int &p, int &q, int &outsize, float *&out, int &sumsize, float *&sum)\n",
        "{\n",
        "    // int p, q;\n",
        "    p = max((h-2)/2, 0);\n",
        "    q = max((w-2)/2, 0);\n",
        "    \n",
        "    float *devin, *devout, *devsum;\n",
        "    devin = devout = devsum = nullptr;\n",
        "    int insize = bs * ch * h * w * sizeof(float);\n",
        "    outsize = bs * p * q * ch * 4 * 4 * sizeof(float);\n",
        "    sumsize = bs * p * q * 4 * 4 * sizeof(float);\n",
        "\n",
        "    gpu_error(cudaMalloc((void **) & devin, insize));\n",
        "    gpu_error(cudaMalloc((void **) & devout, outsize));\n",
        "    gpu_error(cudaMalloc((void **) & devsum, sumsize));\n",
        "    \n",
        "    gpu_error(cudaMemcpy(devin, in, insize, cudaMemcpyHostToDevice));\n",
        "\n",
        "    // call the kernel function for tiling\n",
        "    \n",
        "    dim3 grid(bs, p, q);  // 3-D\n",
        "    dim3 block(ch, 1, 1); // 1-D\n",
        "\n",
        "    tile<<<grid, block>>>(devin, devout, devsum, h, w);\n",
        "\n",
        "    // copy from device to host to out.\n",
        "\n",
        "    delete in;\n",
        "    out = new float[outsize/sizeof(float)];\n",
        "    sum = new float[sumsize/sizeof(float)];\n",
        "\n",
        "    gpu_error(cudaMemcpy(out, devout, outsize, cudaMemcpyDeviceToHost));\n",
        "    gpu_error(cudaMemcpy(sum, devsum, sumsize, cudaMemcpyDeviceToHost));\n",
        "\n",
        "    gpu_error(cudaFree(devin));\n",
        "    gpu_error(cudaFree(devout));\n",
        "    gpu_error(cudaFree(devsum));\n",
        "    \n",
        "}\n",
        "\n",
        "void padding(float *&in, int bs, int ch, int &h, int &w, int pad)\n",
        "{\n",
        "    // Here, after adding pad we also round up h, w to become a multiple of tile.\n",
        "    // This is done such that the actual matrix is present at top left of this matrix.\n",
        "\n",
        "    int newh, neww;\n",
        "    newh = h + 2*pad;\n",
        "    neww = w + 2*pad;\n",
        "    if(newh%2)\n",
        "        newh++;\n",
        "    if(neww%2)\n",
        "        neww++;\n",
        "    if(newh < 4)\n",
        "        newh = 4;\n",
        "    if(neww < 4)\n",
        "        neww = 4;\n",
        "\n",
        "    int slices = bs*ch;\n",
        "    int newhw = newh*neww;\n",
        "    float *newin = new float[slices*newhw];\n",
        "    float *tin = in, *tnewin = newin;\n",
        "    LOOP(slices)\n",
        "    {\n",
        "        LOOP(newh)\n",
        "        {\n",
        "            LOOP(neww)\n",
        "            {\n",
        "                if(tnewh >= pad && tnewh-pad < h && tneww >= pad && tneww-pad < w)\n",
        "                {\n",
        "                    *(tnewin++) = *(tin++);\n",
        "                }\n",
        "                else\n",
        "                {\n",
        "                    *(tnewin++) = 0;\n",
        "                }\n",
        "            }\n",
        "        }\n",
        "    }\n",
        "\n",
        "    delete in;\n",
        "    in = newin;\n",
        "\n",
        "    h = newh;\n",
        "    w = neww;\n",
        "\n",
        "}\n",
        "\n",
        "int main(void) \n",
        "{\n",
        "    auto engine = default_random_engine(time(nullptr));\n",
        "    auto rng = uniform_real_distribution<float>();\n",
        "\n",
        "    int bs, ch, h, w, p, q, oldh, oldw;\n",
        "    \n",
        "    bs = 1;\n",
        "    ch = 2;\n",
        "    oldh = h = 1;\n",
        "    oldw = w = 1;\n",
        "    \n",
        "    int insize = bs * ch * h * w * sizeof(float);\n",
        "    int outsize, sumsize;\n",
        " \n",
        "    float *in = new float[insize/sizeof(float)];\n",
        "    float *t = in;\n",
        "    float *out, *sum;\n",
        " \n",
        "    LOOP(bs)\n",
        "    {\n",
        "        LOOP(ch)\n",
        "        {\n",
        "            LOOP(h)\n",
        "            {\n",
        "                LOOP(w)\n",
        "                {\n",
        "                    *(t++) = rng(engine);\n",
        "                }\n",
        "            }\n",
        "        }\n",
        "    }\n",
        " \n",
        "    LOOP(bs)\n",
        "    {\n",
        "        cout<<\"{ \";\n",
        "        LOOP(ch)\n",
        "        {\n",
        "            cout<<\"{ \";\n",
        "            LOOP(h)\n",
        "            {\n",
        "                cout<<\"{ \";\n",
        "                LOOP(w)\n",
        "                {\n",
        "                    cout<<in[((tbs*ch+tch)*h+th)*w+tw]<<\" \";\n",
        "                }\n",
        "                cout<<\"}\\n\";\n",
        "            }\n",
        "            cout<<\"}\\n\";\n",
        "        }\n",
        "        cout<<\"}\\n\";\n",
        "    }\n",
        "\n",
        "    cout<<\"\\nPadding\\n\";\n",
        "\n",
        "    int pad = 1;\n",
        "\n",
        "    padding(in, bs, ch, h, w, pad);\n",
        "\n",
        "    cout<<\"\\nPadding done\\n\";\n",
        "    \n",
        "    LOOP(bs)\n",
        "    {\n",
        "        cout<<\"{ \";\n",
        "        LOOP(ch)\n",
        "        {\n",
        "            cout<<\"{ \";\n",
        "            LOOP(h)\n",
        "            {\n",
        "                cout<<\"{ \";\n",
        "                LOOP(w)\n",
        "                {\n",
        "                    cout<<in[((tbs*ch+tch)*h+th)*w+tw]<<\" \";\n",
        "                }\n",
        "                cout<<\"}\\n\";\n",
        "            }\n",
        "            cout<<\"}\\n\";\n",
        "        }\n",
        "        cout<<\"}\\n\";\n",
        "    }\n",
        "\n",
        "    cout<<\"\\nTiling and Summing\\n\";\n",
        "\n",
        "    tilehost(1, ch, bs, h, w, in, p, q, outsize, out, sumsize, sum);\n",
        "    \n",
        "    cout<<\"\\nTiling finished\\n\\n\";\n",
        "\n",
        "    /*\n",
        "    \n",
        "    LOOP(bs)\n",
        "    {\n",
        "        cout<<\"{ \";\n",
        "        LOOP(p)\n",
        "        {\n",
        "            cout<<\"{ \";\n",
        "            LOOP(q)\n",
        "            {\n",
        "                cout<<\"{ \";\n",
        "                LOOP(ch)\n",
        "                {\n",
        "                    cout<<\"{ \";\n",
        "                    for(int i = 0; i < 4; i++)\n",
        "                    {\n",
        "                        for(int j = 0; j < 4; j++)\n",
        "                        {\n",
        "                            cout<<out[((((tbs*p+tp)*q+tq)*ch+tch)*4+i)*4+j]<<\",\";\n",
        "                        }\n",
        "                        cout<<\";\\n\";\n",
        "                    }\n",
        "                    cout<<\"}\\n\";\n",
        "                }\n",
        "                cout<<\"}\\n\";\n",
        "            }\n",
        "            cout<<\"}\\n\";\n",
        "        }\n",
        "        cout<<\"}\\n\";\n",
        "    }\n",
        " \n",
        "    */\n",
        "\n",
        "    cout<<\"\\nSumming finished\\n\\n\";\n",
        "\n",
        "    LOOP(bs)\n",
        "    {\n",
        "        cout<<\"{ \";\n",
        "        LOOP(p)\n",
        "        {\n",
        "            cout<<\"{ \";\n",
        "            LOOP(q)\n",
        "            {\n",
        "                cout<<\"{ \";\n",
        "                for(int i = 0; i < 4; i++)\n",
        "                {\n",
        "                    for(int j = 0; j < 4; j++)\n",
        "                    {\n",
        "                        cout<<sum[(((tbs*p+tp)*q+tq)*4+i)*4+j]<<\",\";\n",
        "                    }\n",
        "                    cout<<\";\\n\";\n",
        "                }\n",
        "                cout<<\"}\\n\";\n",
        "            }\n",
        "            cout<<\"}\\n\";\n",
        "        }\n",
        "        cout<<\"}\\n\";\n",
        "    }\n",
        "\n",
        "    return 0;\n",
        "}"
      ],
      "execution_count": 11,
      "outputs": [
        {
          "output_type": "execute_result",
          "data": {
            "text/plain": [
              "'File written in /content/src/helloCUDA.cu'"
            ]
          },
          "metadata": {
            "tags": []
          },
          "execution_count": 11
        }
      ]
    },
    {
      "cell_type": "code",
      "metadata": {
        "id": "8ncVM7H-n85I",
        "colab_type": "code",
        "outputId": "ccc1d228-cbbe-4cdd-a185-9fc922e198c4",
        "colab": {
          "base_uri": "https://localhost:8080/",
          "height": 85
        }
      },
      "source": [
        "!nvcc -std=c++11 /content/src/helloCUDA.cu -o /content/src/helloCUDA"
      ],
      "execution_count": 12,
      "outputs": [
        {
          "output_type": "stream",
          "text": [
            "/content/src/helloCUDA.cu(187): warning: variable \"oldh\" was set but never used\n",
            "\n",
            "/content/src/helloCUDA.cu(187): warning: variable \"oldw\" was set but never used\n",
            "\n"
          ],
          "name": "stdout"
        }
      ]
    },
    {
      "cell_type": "code",
      "metadata": {
        "id": "pXq-m0VsoOCv",
        "colab_type": "code",
        "outputId": "40e912b0-754d-443c-f6f4-0ad7734f60a8",
        "colab": {
          "base_uri": "https://localhost:8080/",
          "height": 612
        }
      },
      "source": [
        "!/content/src/helloCUDA #< input.txt"
      ],
      "execution_count": 13,
      "outputs": [
        {
          "output_type": "stream",
          "text": [
            "{ { { 0.497757 }\n",
            "}\n",
            "{ { 0.794631 }\n",
            "}\n",
            "}\n",
            "\n",
            "Padding\n",
            "\n",
            "Padding done\n",
            "{ { { 0 0 0 0 }\n",
            "{ 0 0.497757 0 0 }\n",
            "{ 0 0 0 0 }\n",
            "{ 0 0 0 0 }\n",
            "}\n",
            "{ { 0 0 0 0 }\n",
            "{ 0 0.794631 0 0 }\n",
            "{ 0 0 0 0 }\n",
            "{ 0 0 0 0 }\n",
            "}\n",
            "}\n",
            "\n",
            "Tiling and Summing\n",
            "\n",
            "Tiling finished\n",
            "\n",
            "\n",
            "Summing finished\n",
            "\n",
            "{ { { 0,0,0,0,;\n",
            "0,1.29239,0,0,;\n",
            "0,0,0,0,;\n",
            "0,0,0,0,;\n",
            "}\n",
            "}\n",
            "}\n"
          ],
          "name": "stdout"
        }
      ]
    },
    {
      "cell_type": "code",
      "metadata": {
        "id": "RNOZutlj_0c-",
        "colab_type": "code",
        "colab": {}
      },
      "source": [
        ""
      ],
      "execution_count": 0,
      "outputs": []
    }
  ]
}